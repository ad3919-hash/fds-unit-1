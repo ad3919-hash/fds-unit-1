{
  "nbformat": 4,
  "nbformat_minor": 0,
  "metadata": {
    "colab": {
      "provenance": [],
      "authorship_tag": "ABX9TyMg+hAZVHLfNsUkXtT6VJiE",
      "include_colab_link": true
    },
    "kernelspec": {
      "name": "python3",
      "display_name": "Python 3"
    },
    "language_info": {
      "name": "python"
    }
  },
  "cells": [
    {
      "cell_type": "markdown",
      "metadata": {
        "id": "view-in-github",
        "colab_type": "text"
      },
      "source": [
        "<a href=\"https://colab.research.google.com/github/ad3919-hash/fds-unit-1/blob/main/RA2411056010283_Unit_1.ipynb\" target=\"_parent\"><img src=\"https://colab.research.google.com/assets/colab-badge.svg\" alt=\"Open In Colab\"/></a>"
      ]
    },
    {
      "cell_type": "markdown",
      "source": [
        "**Creating an array with arange**"
      ],
      "metadata": {
        "id": "OaquPPTKlxd9"
      }
    },
    {
      "cell_type": "code",
      "source": [
        "import numpy as np\n",
        "arr = np.arange(7)\n",
        "print(arr)\n"
      ],
      "metadata": {
        "colab": {
          "base_uri": "https://localhost:8080/"
        },
        "id": "fp_Dk2XpmX5a",
        "outputId": "bbfeace7-937b-44a0-c22b-4ffb603ff4e0"
      },
      "execution_count": null,
      "outputs": [
        {
          "output_type": "stream",
          "name": "stdout",
          "text": [
            "[0 1 2 3 4 5 6]\n"
          ]
        }
      ]
    },
    {
      "cell_type": "markdown",
      "source": [
        "**Reshaping an array and checking size**"
      ],
      "metadata": {
        "id": "z-P69yvbnKtu"
      }
    },
    {
      "cell_type": "code",
      "source": [
        "import numpy as np\n",
        "arr = np.arange(8).reshape(2,4)\n",
        "print(arr)\n",
        "print()\n",
        "arr.size\n"
      ],
      "metadata": {
        "colab": {
          "base_uri": "https://localhost:8080/"
        },
        "id": "nyTT5wVYnSRg",
        "outputId": "5a97b8a7-7a13-4f10-88f6-be903f6c2812"
      },
      "execution_count": null,
      "outputs": [
        {
          "output_type": "stream",
          "name": "stdout",
          "text": [
            "[[0 1 2 3]\n",
            " [4 5 6 7]]\n",
            "\n"
          ]
        },
        {
          "output_type": "execute_result",
          "data": {
            "text/plain": [
              "8"
            ]
          },
          "metadata": {},
          "execution_count": 2
        }
      ]
    },
    {
      "cell_type": "markdown",
      "source": [
        "**Creating an identity matrix with eye**"
      ],
      "metadata": {
        "id": "yc26ohc7nT5l"
      }
    },
    {
      "cell_type": "code",
      "source": [
        "import numpy as np\n",
        "arr = np.eye(4)\n",
        "print(arr)\n"
      ],
      "metadata": {
        "colab": {
          "base_uri": "https://localhost:8080/"
        },
        "id": "jIZ8gYdsnYyY",
        "outputId": "66c137f1-706d-4420-8d80-3ddfe8be530d"
      },
      "execution_count": null,
      "outputs": [
        {
          "output_type": "stream",
          "name": "stdout",
          "text": [
            "[[1. 0. 0. 0.]\n",
            " [0. 1. 0. 0.]\n",
            " [0. 0. 1. 0.]\n",
            " [0. 0. 0. 1.]]\n"
          ]
        }
      ]
    },
    {
      "cell_type": "markdown",
      "source": [
        "**Eye matrix with offsets and identity**"
      ],
      "metadata": {
        "id": "3oG49dvInaoe"
      }
    },
    {
      "cell_type": "code",
      "source": [
        "import numpy as np\n",
        "print(np.eye(3,5,1))\n",
        "print()\n",
        "print(np.eye(8,4,0))\n",
        "print()\n",
        "print(np.eye(8,4,1))\n",
        "print()\n",
        "print(np.eye(8,4,-1))\n",
        "print()\n",
        "arr = np.identity(4)\n",
        "print(arr)\n"
      ],
      "metadata": {
        "colab": {
          "base_uri": "https://localhost:8080/"
        },
        "id": "rnSHWpqznfe1",
        "outputId": "c7623ad2-59bf-4a3a-ecda-fdfa537b780d"
      },
      "execution_count": null,
      "outputs": [
        {
          "output_type": "stream",
          "name": "stdout",
          "text": [
            "[[0. 1. 0. 0. 0.]\n",
            " [0. 0. 1. 0. 0.]\n",
            " [0. 0. 0. 1. 0.]]\n",
            "\n",
            "[[1. 0. 0. 0.]\n",
            " [0. 1. 0. 0.]\n",
            " [0. 0. 1. 0.]\n",
            " [0. 0. 0. 1.]\n",
            " [0. 0. 0. 0.]\n",
            " [0. 0. 0. 0.]\n",
            " [0. 0. 0. 0.]\n",
            " [0. 0. 0. 0.]]\n",
            "\n",
            "[[0. 1. 0. 0.]\n",
            " [0. 0. 1. 0.]\n",
            " [0. 0. 0. 1.]\n",
            " [0. 0. 0. 0.]\n",
            " [0. 0. 0. 0.]\n",
            " [0. 0. 0. 0.]\n",
            " [0. 0. 0. 0.]\n",
            " [0. 0. 0. 0.]]\n",
            "\n",
            "[[0. 0. 0. 0.]\n",
            " [1. 0. 0. 0.]\n",
            " [0. 1. 0. 0.]\n",
            " [0. 0. 1. 0.]\n",
            " [0. 0. 0. 1.]\n",
            " [0. 0. 0. 0.]\n",
            " [0. 0. 0. 0.]\n",
            " [0. 0. 0. 0.]]\n",
            "\n",
            "[[1. 0. 0. 0.]\n",
            " [0. 1. 0. 0.]\n",
            " [0. 0. 1. 0.]\n",
            " [0. 0. 0. 1.]]\n"
          ]
        }
      ]
    },
    {
      "cell_type": "markdown",
      "source": [
        "**Creating an empty array**"
      ],
      "metadata": {
        "id": "5E-UGfL3ng4V"
      }
    },
    {
      "cell_type": "code",
      "source": [
        "import numpy as np\n",
        "arr = np.empty(4)\n",
        "print(arr)\n"
      ],
      "metadata": {
        "colab": {
          "base_uri": "https://localhost:8080/"
        },
        "id": "oCq2goBpnjqH",
        "outputId": "6b14717d-f368-414b-cd46-5f7a61938f6f"
      },
      "execution_count": null,
      "outputs": [
        {
          "output_type": "stream",
          "name": "stdout",
          "text": [
            "[1. 1. 1. 1.]\n"
          ]
        }
      ]
    },
    {
      "cell_type": "markdown",
      "source": [
        "**Zeros, Ones, and Full arrays**"
      ],
      "metadata": {
        "id": "Jkq2ms1anmKe"
      }
    },
    {
      "cell_type": "code",
      "source": [
        "import numpy as np\n",
        "arr = np.zeros((2,4))\n",
        "print(arr)\n",
        "print()\n",
        "arrr = np.ones((3,6))\n",
        "print(arrr)\n",
        "ar = np.full((2,2),3)\n",
        "print(ar)\n"
      ],
      "metadata": {
        "colab": {
          "base_uri": "https://localhost:8080/"
        },
        "id": "SYdKXvIRno0b",
        "outputId": "64e341e8-39f3-4a7d-cd5c-dd8cf72f7481"
      },
      "execution_count": null,
      "outputs": [
        {
          "output_type": "stream",
          "name": "stdout",
          "text": [
            "[[0. 0. 0. 0.]\n",
            " [0. 0. 0. 0.]]\n",
            "\n",
            "[[1. 1. 1. 1. 1. 1.]\n",
            " [1. 1. 1. 1. 1. 1.]\n",
            " [1. 1. 1. 1. 1. 1.]]\n",
            "[[3 3]\n",
            " [3 3]]\n"
          ]
        }
      ]
    },
    {
      "cell_type": "markdown",
      "source": [
        "**Creating an array of ones**"
      ],
      "metadata": {
        "id": "HLvkavXqnqci"
      }
    },
    {
      "cell_type": "code",
      "source": [
        "import numpy as np\n",
        "arr = np.ones((2,4))\n",
        "print(arr)\n"
      ],
      "metadata": {
        "colab": {
          "base_uri": "https://localhost:8080/"
        },
        "id": "890YiSySntSt",
        "outputId": "1349e925-5859-499f-a373-d49b34e203da"
      },
      "execution_count": null,
      "outputs": [
        {
          "output_type": "stream",
          "name": "stdout",
          "text": [
            "[[1. 1. 1. 1.]\n",
            " [1. 1. 1. 1.]]\n"
          ]
        }
      ]
    },
    {
      "cell_type": "markdown",
      "source": [
        "**Reshape and dimension**"
      ],
      "metadata": {
        "id": "nZApt3gRoiaI"
      }
    },
    {
      "cell_type": "code",
      "source": [
        "import numpy as np\n",
        "arr = np.arange(9).reshape(3,3)\n",
        "print(arr)\n",
        "print()\n",
        "print(\"Dimnesion\", arr.ndim)\n"
      ],
      "metadata": {
        "colab": {
          "base_uri": "https://localhost:8080/"
        },
        "id": "4rzR7Xu1ok6B",
        "outputId": "aa912505-b1bf-4fef-c02f-bd7484f7b842"
      },
      "execution_count": null,
      "outputs": [
        {
          "output_type": "stream",
          "name": "stdout",
          "text": [
            "[[0 1 2]\n",
            " [3 4 5]\n",
            " [6 7 8]]\n",
            "\n",
            "Dimnesion 2\n"
          ]
        }
      ]
    },
    {
      "cell_type": "markdown",
      "source": [
        "**Full array and shape**"
      ],
      "metadata": {
        "id": "AXFpXSjPomnZ"
      }
    },
    {
      "cell_type": "code",
      "source": [
        "import numpy as np\n",
        "arr = np.full((2,5),7)\n",
        "print(arr)\n",
        "print()\n",
        "arr.shape\n"
      ],
      "metadata": {
        "colab": {
          "base_uri": "https://localhost:8080/"
        },
        "id": "vuokT9ezoo15",
        "outputId": "b0a47e0e-72e7-42d5-eb03-d4627738d1ec"
      },
      "execution_count": null,
      "outputs": [
        {
          "output_type": "stream",
          "name": "stdout",
          "text": [
            "[[7 7 7 7 7]\n",
            " [7 7 7 7 7]]\n",
            "\n"
          ]
        },
        {
          "output_type": "execute_result",
          "data": {
            "text/plain": [
              "(2, 5)"
            ]
          },
          "metadata": {},
          "execution_count": 9
        }
      ]
    },
    {
      "cell_type": "markdown",
      "source": [
        "**Array slicing**"
      ],
      "metadata": {
        "id": "os9IBdqOoqX0"
      }
    },
    {
      "cell_type": "code",
      "source": [
        "import numpy as np\n",
        "arr = np.array([2,34,41,32,23,122])\n",
        "print(arr)\n",
        "print()\n",
        "print(arr[1:3])\n"
      ],
      "metadata": {
        "colab": {
          "base_uri": "https://localhost:8080/"
        },
        "id": "YcCTm7iAoti4",
        "outputId": "538c249d-cb10-489f-9c35-08ebdb11924d"
      },
      "execution_count": null,
      "outputs": [
        {
          "output_type": "stream",
          "name": "stdout",
          "text": [
            "[  2  34  41  32  23 122]\n",
            "\n",
            "[34 41]\n"
          ]
        }
      ]
    },
    {
      "cell_type": "markdown",
      "source": [
        "**More slicing examples**"
      ],
      "metadata": {
        "id": "Xo9ZRr3uovSG"
      }
    },
    {
      "cell_type": "code",
      "source": [
        "import numpy as np\n",
        "arr = np.array([2,34,41,32,23,122,2,3,5,678,45,675,34,34])\n",
        "print(arr)\n",
        "print()\n",
        "print(arr[1:])\n",
        "print()\n",
        "print(arr[1::3])\n",
        "print()\n",
        "print(arr[:3])\n"
      ],
      "metadata": {
        "colab": {
          "base_uri": "https://localhost:8080/"
        },
        "id": "kiOWozccoyRS",
        "outputId": "2b48c9c0-924e-40f0-a742-ca2a9019821c"
      },
      "execution_count": null,
      "outputs": [
        {
          "output_type": "stream",
          "name": "stdout",
          "text": [
            "[  2  34  41  32  23 122   2   3   5 678  45 675  34  34]\n",
            "\n",
            "[ 34  41  32  23 122   2   3   5 678  45 675  34  34]\n",
            "\n",
            "[34 23  3 45 34]\n",
            "\n",
            "[ 2 34 41]\n"
          ]
        }
      ]
    },
    {
      "cell_type": "markdown",
      "source": [
        "**Python list slicing**"
      ],
      "metadata": {
        "id": "YIVy_Q3gozhK"
      }
    },
    {
      "cell_type": "code",
      "source": [
        "arr = [1,2,5,6,7,3,5,6]\n",
        "print(arr[:-2])\n"
      ],
      "metadata": {
        "colab": {
          "base_uri": "https://localhost:8080/"
        },
        "id": "78E3LMMoo2Wh",
        "outputId": "7be246f1-d5c8-4137-8d3c-f396584815ff"
      },
      "execution_count": null,
      "outputs": [
        {
          "output_type": "stream",
          "name": "stdout",
          "text": [
            "[1, 2, 5, 6, 7, 3]\n"
          ]
        }
      ]
    },
    {
      "cell_type": "markdown",
      "source": [
        "**Numpy slicing on 2D array**"
      ],
      "metadata": {
        "id": "F3Lp0UWto5Yc"
      }
    },
    {
      "cell_type": "code",
      "source": [
        "import numpy as np\n",
        "arr = np.arange(9).reshape(3,3)\n",
        "print(arr[:-1,:-1])\n",
        "print()\n",
        "print(arr)\n"
      ],
      "metadata": {
        "colab": {
          "base_uri": "https://localhost:8080/"
        },
        "id": "cj6msBvBo87N",
        "outputId": "4171f583-cb4e-49c3-df77-b4eafe5103ed"
      },
      "execution_count": null,
      "outputs": [
        {
          "output_type": "stream",
          "name": "stdout",
          "text": [
            "[[0 1]\n",
            " [3 4]]\n",
            "\n",
            "[[0 1 2]\n",
            " [3 4 5]\n",
            " [6 7 8]]\n"
          ]
        }
      ]
    },
    {
      "cell_type": "markdown",
      "source": [
        "**Linspace and empty_like**"
      ],
      "metadata": {
        "id": "FRZehIPBo9q4"
      }
    },
    {
      "cell_type": "code",
      "source": [
        "import numpy as np\n",
        "a = np.linspace(1,5,num=3)\n",
        "print(a)\n",
        "print()\n",
        "b = np.empty_like(a)\n",
        "print(b)\n"
      ],
      "metadata": {
        "colab": {
          "base_uri": "https://localhost:8080/"
        },
        "id": "ncGcrqjTpCHL",
        "outputId": "3bd987e9-6f37-4c3a-9325-72aa0ecc0fe0"
      },
      "execution_count": null,
      "outputs": [
        {
          "output_type": "stream",
          "name": "stdout",
          "text": [
            "[1. 3. 5.]\n",
            "\n",
            "[1. 3. 5.]\n"
          ]
        }
      ]
    },
    {
      "cell_type": "markdown",
      "source": [
        "**Random array and shape**"
      ],
      "metadata": {
        "id": "SW7JpoHHpDjQ"
      }
    },
    {
      "cell_type": "code",
      "source": [
        "import numpy as np\n",
        "arr = np.random.rand(2,3)\n",
        "print(arr)\n",
        "print()\n",
        "arr.shape\n"
      ],
      "metadata": {
        "colab": {
          "base_uri": "https://localhost:8080/"
        },
        "id": "-H0OTWp2pGet",
        "outputId": "8ca531eb-283a-474a-96af-4ac551826da0"
      },
      "execution_count": null,
      "outputs": [
        {
          "output_type": "stream",
          "name": "stdout",
          "text": [
            "[[0.20517246 0.92906376 0.87493669]\n",
            " [0.48166838 0.41842628 0.28711631]]\n",
            "\n"
          ]
        },
        {
          "output_type": "execute_result",
          "data": {
            "text/plain": [
              "(2, 3)"
            ]
          },
          "metadata": {},
          "execution_count": 15
        }
      ]
    },
    {
      "cell_type": "markdown",
      "source": [
        "**Empty_like on random array**"
      ],
      "metadata": {
        "id": "vwUIkXT6pH4u"
      }
    },
    {
      "cell_type": "code",
      "source": [
        "import numpy as np\n",
        "arr = np.random.rand(2,3)\n",
        "print(arr)\n",
        "print()\n",
        "b = np.empty_like(arr)\n",
        "print(b)\n"
      ],
      "metadata": {
        "colab": {
          "base_uri": "https://localhost:8080/"
        },
        "id": "Zh7M0iAPpKfR",
        "outputId": "b8cb0dcc-e122-4e5f-b2df-ae76acf6e419"
      },
      "execution_count": null,
      "outputs": [
        {
          "output_type": "stream",
          "name": "stdout",
          "text": [
            "[[0.17062445 0.04504986 0.4785158 ]\n",
            " [0.95798263 0.27574552 0.28662388]]\n",
            "\n",
            "[[0.17062445 0.04504986 0.4785158 ]\n",
            " [0.95798263 0.27574552 0.28662388]]\n"
          ]
        }
      ]
    },
    {
      "cell_type": "markdown",
      "source": [
        "**Empty_like on 1D array**"
      ],
      "metadata": {
        "id": "0-OfEPyOpL2c"
      }
    },
    {
      "cell_type": "code",
      "source": [
        "import numpy as np\n",
        "arr = np.array([1,3,4,5,5,7])\n",
        "print(arr)\n",
        "print()\n",
        "array = np.empty_like(arr)\n",
        "print(array)\n"
      ],
      "metadata": {
        "colab": {
          "base_uri": "https://localhost:8080/"
        },
        "id": "WQLCQrlUpN_q",
        "outputId": "164de6e0-8276-452e-c684-137222974e86"
      },
      "execution_count": null,
      "outputs": [
        {
          "output_type": "stream",
          "name": "stdout",
          "text": [
            "[1 3 4 5 5 7]\n",
            "\n",
            "[4595315414051503312 4586653189737636240 4602291794245227630\n",
            " 4606803960019854471 4598639009527650324 4598834976637616836]\n"
          ]
        }
      ]
    },
    {
      "cell_type": "markdown",
      "source": [
        "**Iterating over 1D array**"
      ],
      "metadata": {
        "id": "3n6EVj12pPG_"
      }
    },
    {
      "cell_type": "code",
      "source": [
        "import numpy as np\n",
        "arr = np.array([1,3,4,5,5,7])\n",
        "print(arr)\n",
        "print()\n",
        "for i in arr:\n",
        "    print(i)\n"
      ],
      "metadata": {
        "colab": {
          "base_uri": "https://localhost:8080/"
        },
        "id": "OMoDQSrupSDC",
        "outputId": "aed37e0f-848b-435f-f9f8-741630b1256e"
      },
      "execution_count": null,
      "outputs": [
        {
          "output_type": "stream",
          "name": "stdout",
          "text": [
            "[1 3 4 5 5 7]\n",
            "\n",
            "1\n",
            "3\n",
            "4\n",
            "5\n",
            "5\n",
            "7\n"
          ]
        }
      ]
    },
    {
      "cell_type": "markdown",
      "source": [
        "**Nested iteration over 2D array**"
      ],
      "metadata": {
        "id": "vL0upi0opTIA"
      }
    },
    {
      "cell_type": "code",
      "source": [
        "import numpy as np\n",
        "arr = np.array([1,3,4,5,5,7]).reshape(3,2)\n",
        "print(arr)\n",
        "print()\n",
        "for i in arr:\n",
        "    for j in i:\n",
        "        print(j)\n"
      ],
      "metadata": {
        "colab": {
          "base_uri": "https://localhost:8080/"
        },
        "id": "pA25rK7KpVJx",
        "outputId": "abf0cfe1-f908-474a-8d64-ba3cfdaf9d45"
      },
      "execution_count": null,
      "outputs": [
        {
          "output_type": "stream",
          "name": "stdout",
          "text": [
            "[[1 3]\n",
            " [4 5]\n",
            " [5 7]]\n",
            "\n",
            "1\n",
            "3\n",
            "4\n",
            "5\n",
            "5\n",
            "7\n"
          ]
        }
      ]
    },
    {
      "cell_type": "markdown",
      "source": [
        "**3D array with full**"
      ],
      "metadata": {
        "id": "iIU0K0SlpWaL"
      }
    },
    {
      "cell_type": "code",
      "source": [
        "import numpy as np\n",
        "array = np.full((3,3,3),2)\n",
        "print(array)\n",
        "print()\n",
        "array.shape\n"
      ],
      "metadata": {
        "colab": {
          "base_uri": "https://localhost:8080/"
        },
        "id": "yTEOvh6YpkUE",
        "outputId": "796c42e3-f08c-4f6e-a325-4217f7a9241e"
      },
      "execution_count": null,
      "outputs": [
        {
          "output_type": "stream",
          "name": "stdout",
          "text": [
            "[[[2 2 2]\n",
            "  [2 2 2]\n",
            "  [2 2 2]]\n",
            "\n",
            " [[2 2 2]\n",
            "  [2 2 2]\n",
            "  [2 2 2]]\n",
            "\n",
            " [[2 2 2]\n",
            "  [2 2 2]\n",
            "  [2 2 2]]]\n",
            "\n"
          ]
        },
        {
          "output_type": "execute_result",
          "data": {
            "text/plain": [
              "(3, 3, 3)"
            ]
          },
          "metadata": {},
          "execution_count": 20
        }
      ]
    },
    {
      "cell_type": "markdown",
      "source": [
        "**Array properties (type, shape, size)**"
      ],
      "metadata": {
        "id": "w85d9_6Rpl1Z"
      }
    },
    {
      "cell_type": "code",
      "source": [
        "import numpy as np\n",
        "a = np.array([[1,2],[3,2]])\n",
        "print(arr)\n",
        "print(type(a))\n",
        "print(a.shape)\n",
        "print(a.ndim)\n",
        "print(a.size)\n",
        "print(a.dtype)\n"
      ],
      "metadata": {
        "colab": {
          "base_uri": "https://localhost:8080/"
        },
        "id": "e_CcidZspoES",
        "outputId": "b2fdfe30-f044-4865-8915-589a780a029b"
      },
      "execution_count": null,
      "outputs": [
        {
          "output_type": "stream",
          "name": "stdout",
          "text": [
            "[[1 3]\n",
            " [4 5]\n",
            " [5 7]]\n",
            "<class 'numpy.ndarray'>\n",
            "(2, 2)\n",
            "2\n",
            "4\n",
            "int64\n"
          ]
        }
      ]
    },
    {
      "cell_type": "markdown",
      "source": [
        "**3D array attributes**"
      ],
      "metadata": {
        "id": "f8AVh27lppYn"
      }
    },
    {
      "cell_type": "code",
      "source": [
        "import numpy as np\n",
        "arr = np.array([\n",
        "    [[1, 2, 3],\n",
        "     [4, 5, 6]],\n",
        "    [[10, 11, 12],\n",
        "     [13, 14, 15]]\n",
        "])\n",
        "print(arr)\n",
        "print()\n",
        "print(arr.shape)\n",
        "print(arr.ndim)\n",
        "print(arr.size)\n",
        "print(arr.dtype)\n"
      ],
      "metadata": {
        "colab": {
          "base_uri": "https://localhost:8080/"
        },
        "id": "qyJA-5ohpsNx",
        "outputId": "b7da7382-5705-43a2-80ea-ab9e53d25014"
      },
      "execution_count": null,
      "outputs": [
        {
          "output_type": "stream",
          "name": "stdout",
          "text": [
            "[[[ 1  2  3]\n",
            "  [ 4  5  6]]\n",
            "\n",
            " [[10 11 12]\n",
            "  [13 14 15]]]\n",
            "\n",
            "(2, 2, 3)\n",
            "3\n",
            "12\n",
            "int64\n"
          ]
        }
      ]
    },
    {
      "cell_type": "markdown",
      "source": [
        "**Triple nested iteration over 3D array**"
      ],
      "metadata": {
        "id": "Nfx-GmqVp8Vy"
      }
    },
    {
      "cell_type": "code",
      "source": [
        "import numpy as np\n",
        "A = np.array([\n",
        "    [[1, 2, 3, 4],\n",
        "     [5, 6, 7, 8],\n",
        "     [9, 10, 11, 12]],\n",
        "    [[13, 14, 15, 16],\n",
        "     [17, 18, 19, 20],\n",
        "     [21, 22, 23, 24]]\n",
        "])\n",
        "print(A)\n",
        "print()\n",
        "for i in A:\n",
        "    for j in i:\n",
        "        for k in j:\n",
        "            print(k)\n"
      ],
      "metadata": {
        "colab": {
          "base_uri": "https://localhost:8080/"
        },
        "id": "abhsd66qp8rY",
        "outputId": "ef9ff62f-ff5a-47bc-d345-a23c4506b44c"
      },
      "execution_count": null,
      "outputs": [
        {
          "output_type": "stream",
          "name": "stdout",
          "text": [
            "[[[ 1  2  3  4]\n",
            "  [ 5  6  7  8]\n",
            "  [ 9 10 11 12]]\n",
            "\n",
            " [[13 14 15 16]\n",
            "  [17 18 19 20]\n",
            "  [21 22 23 24]]]\n",
            "\n",
            "1\n",
            "2\n",
            "3\n",
            "4\n",
            "5\n",
            "6\n",
            "7\n",
            "8\n",
            "9\n",
            "10\n",
            "11\n",
            "12\n",
            "13\n",
            "14\n",
            "15\n",
            "16\n",
            "17\n",
            "18\n",
            "19\n",
            "20\n",
            "21\n",
            "22\n",
            "23\n",
            "24\n"
          ]
        }
      ]
    },
    {
      "cell_type": "markdown",
      "source": [
        "**Different dtypes in arrays**"
      ],
      "metadata": {
        "id": "J6mx6eQWqFc6"
      }
    },
    {
      "cell_type": "code",
      "source": [
        "import numpy as np\n",
        "a = np.ndarray(shape=(3,3),dtype=float)\n",
        "print(a)\n",
        "print()\n",
        "b = np.ones((3,3),dtype=int)\n",
        "print(b)\n",
        "print()\n",
        "c = np.zeros((3,3))\n",
        "print(c)\n",
        "print()\n",
        "d = np.full((3,3),1,dtype=complex)\n",
        "print(d)\n"
      ],
      "metadata": {
        "colab": {
          "base_uri": "https://localhost:8080/"
        },
        "id": "3tYM_c6hqIAv",
        "outputId": "959d6f9b-269c-432d-c4e4-f6772249e954"
      },
      "execution_count": null,
      "outputs": [
        {
          "output_type": "stream",
          "name": "stdout",
          "text": [
            "[[0.0e+000 4.9e-324 9.9e-324]\n",
            " [1.5e-323 2.0e-323 2.5e-323]\n",
            " [3.0e-323 3.5e-323 4.0e-323]]\n",
            "\n",
            "[[1 1 1]\n",
            " [1 1 1]\n",
            " [1 1 1]]\n",
            "\n",
            "[[0. 0. 0.]\n",
            " [0. 0. 0.]\n",
            " [0. 0. 0.]]\n",
            "\n",
            "[[1.+0.j 1.+0.j 1.+0.j]\n",
            " [1.+0.j 1.+0.j 1.+0.j]\n",
            " [1.+0.j 1.+0.j 1.+0.j]]\n"
          ]
        }
      ]
    },
    {
      "cell_type": "markdown",
      "source": [
        "**Indexing element in 2D array**"
      ],
      "metadata": {
        "id": "KXndIo3NqJfM"
      }
    },
    {
      "cell_type": "code",
      "source": [
        "import numpy as np\n",
        "arr = np.array([[10,20,30],\n",
        "                [40,50,60],\n",
        "                [70,80,90]])\n",
        "print(arr[1][1])\n"
      ],
      "metadata": {
        "colab": {
          "base_uri": "https://localhost:8080/"
        },
        "id": "FKspyzL_qMx4",
        "outputId": "137f7b2d-c330-4e77-ea89-66d7fbc951a1"
      },
      "execution_count": null,
      "outputs": [
        {
          "output_type": "stream",
          "name": "stdout",
          "text": [
            "50\n"
          ]
        }
      ]
    },
    {
      "cell_type": "markdown",
      "source": [
        "**Negative indexing in 2D array**"
      ],
      "metadata": {
        "id": "P-RY-3ihqOcd"
      }
    },
    {
      "cell_type": "code",
      "source": [
        "import numpy as np\n",
        "arr = np.array([[10,20,30],[4,3,2]])\n",
        "print(arr)\n",
        "print()\n",
        "print(arr[1,-1])\n"
      ],
      "metadata": {
        "colab": {
          "base_uri": "https://localhost:8080/"
        },
        "id": "2SSHD-RNqQ0J",
        "outputId": "1f17c0bc-22b3-4944-9b6a-a1c7ca716c93"
      },
      "execution_count": null,
      "outputs": [
        {
          "output_type": "stream",
          "name": "stdout",
          "text": [
            "[[10 20 30]\n",
            " [ 4  3  2]]\n",
            "\n",
            "2\n"
          ]
        }
      ]
    },
    {
      "cell_type": "markdown",
      "source": [
        "**Modifying an element in array**"
      ],
      "metadata": {
        "id": "gnMKdhy1qSig"
      }
    },
    {
      "cell_type": "code",
      "source": [
        "import numpy as np\n",
        "A = np.array([[1,2],\n",
        "              [3,5],\n",
        "              [15,-3]])\n",
        "print(A)\n",
        "print()\n",
        "A[2,1] = 100\n",
        "print(A)\n"
      ],
      "metadata": {
        "colab": {
          "base_uri": "https://localhost:8080/"
        },
        "id": "bDOf7BDdqWHB",
        "outputId": "5327a6a9-65b2-4602-e5a9-7a9015306067"
      },
      "execution_count": null,
      "outputs": [
        {
          "output_type": "stream",
          "name": "stdout",
          "text": [
            "[[ 1  2]\n",
            " [ 3  5]\n",
            " [15 -3]]\n",
            "\n",
            "[[  1   2]\n",
            " [  3   5]\n",
            " [ 15 100]]\n"
          ]
        }
      ]
    },
    {
      "cell_type": "markdown",
      "source": [
        "**Array arithmetic operations**"
      ],
      "metadata": {
        "id": "shwr6KXNqZ8e"
      }
    },
    {
      "cell_type": "code",
      "source": [
        "import numpy as np\n",
        "a = np.array([[1,2],[3,5],[15,-3]])\n",
        "print(a)\n",
        "b = np.array([[1,2],[3,5],[15,-3]])\n",
        "print(b)\n",
        "print(a+b)\n",
        "print(a-b)\n",
        "print(a*b)\n",
        "print(a/b)\n"
      ],
      "metadata": {
        "colab": {
          "base_uri": "https://localhost:8080/"
        },
        "id": "MFa78JMmqb5Z",
        "outputId": "8e9f18aa-baee-4c71-c7b8-cd2eb8569cf8"
      },
      "execution_count": null,
      "outputs": [
        {
          "output_type": "stream",
          "name": "stdout",
          "text": [
            "[[ 1  2]\n",
            " [ 3  5]\n",
            " [15 -3]]\n",
            "[[ 1  2]\n",
            " [ 3  5]\n",
            " [15 -3]]\n",
            "[[ 2  4]\n",
            " [ 6 10]\n",
            " [30 -6]]\n",
            "[[0 0]\n",
            " [0 0]\n",
            " [0 0]]\n",
            "[[  1   4]\n",
            " [  9  25]\n",
            " [225   9]]\n",
            "[[1. 1.]\n",
            " [1. 1.]\n",
            " [1. 1.]]\n"
          ]
        }
      ]
    },
    {
      "cell_type": "markdown",
      "source": [
        "**Finding item size of array elements**"
      ],
      "metadata": {
        "id": "t9lQeF92qmKU"
      }
    },
    {
      "cell_type": "code",
      "source": [
        "import numpy as np\n",
        "a = np.array([[1,2],[3,5],[15,2]])\n",
        "print(a.itemsize)\n"
      ],
      "metadata": {
        "colab": {
          "base_uri": "https://localhost:8080/"
        },
        "id": "IWGB7pd6qpOJ",
        "outputId": "c4fbe2ff-4bf6-449e-b7ca-bfcf33bf8b42"
      },
      "execution_count": null,
      "outputs": [
        {
          "output_type": "stream",
          "name": "stdout",
          "text": [
            "8\n"
          ]
        }
      ]
    },
    {
      "cell_type": "markdown",
      "source": [
        "**Sorting elements in arrays**"
      ],
      "metadata": {
        "id": "JkQhpsTAqqyx"
      }
    },
    {
      "cell_type": "code",
      "source": [
        "import numpy as np\n",
        "a = np.array([[1,4],[6,5],[15,2]])\n",
        "print(a)\n",
        "print()\n",
        "b = np.sort(a)\n",
        "print(b)\n"
      ],
      "metadata": {
        "colab": {
          "base_uri": "https://localhost:8080/"
        },
        "id": "20VEJE9cqsww",
        "outputId": "5037d60e-811c-40d9-96f5-65e2c9d82f56"
      },
      "execution_count": null,
      "outputs": [
        {
          "output_type": "stream",
          "name": "stdout",
          "text": [
            "[[ 1  4]\n",
            " [ 6  5]\n",
            " [15  2]]\n",
            "\n",
            "[[ 1  4]\n",
            " [ 5  6]\n",
            " [ 2 15]]\n"
          ]
        }
      ]
    },
    {
      "cell_type": "markdown",
      "source": [
        "**Concatenating 1D arrays**"
      ],
      "metadata": {
        "id": "i4BGh5EiqurC"
      }
    },
    {
      "cell_type": "code",
      "source": [
        "import numpy as np\n",
        "a = np.array([2,-1,0,15,5])\n",
        "print(a)\n",
        "b = np.array([10,20,5])\n",
        "print(b)\n",
        "c = np.concatenate((a,b))\n",
        "print(c)\n"
      ],
      "metadata": {
        "colab": {
          "base_uri": "https://localhost:8080/"
        },
        "id": "0cr0G1f-qxoq",
        "outputId": "a9c2928b-c9a9-46f9-8218-7549def0aa9b"
      },
      "execution_count": null,
      "outputs": [
        {
          "output_type": "stream",
          "name": "stdout",
          "text": [
            "[ 2 -1  0 15  5]\n",
            "[10 20  5]\n",
            "[ 2 -1  0 15  5 10 20  5]\n"
          ]
        }
      ]
    },
    {
      "cell_type": "markdown",
      "source": [
        "**Concatenating 2D arrays along different axes**"
      ],
      "metadata": {
        "id": "wGUHX95FqzTv"
      }
    },
    {
      "cell_type": "code",
      "source": [
        "import numpy as np\n",
        "a = np.array([[2,-1,0,15,5],[1,1,1,1,0]])\n",
        "print(a)\n",
        "print()\n",
        "b = np.array([[10,20,5,1,3],[10,2,-1,4,5]])\n",
        "print(b)\n",
        "print()\n",
        "c = np.concatenate((a,b),axis=1)\n",
        "print(c)\n",
        "print()\n",
        "d = np.concatenate((a,b),axis=0)\n",
        "print(d)\n"
      ],
      "metadata": {
        "colab": {
          "base_uri": "https://localhost:8080/"
        },
        "id": "C9zExDSRq3UX",
        "outputId": "e274b9fc-5895-4871-aab2-ad840f3122e5"
      },
      "execution_count": null,
      "outputs": [
        {
          "output_type": "stream",
          "name": "stdout",
          "text": [
            "[[ 2 -1  0 15  5]\n",
            " [ 1  1  1  1  0]]\n",
            "\n",
            "[[10 20  5  1  3]\n",
            " [10  2 -1  4  5]]\n",
            "\n",
            "[[ 2 -1  0 15  5 10 20  5  1  3]\n",
            " [ 1  1  1  1  0 10  2 -1  4  5]]\n",
            "\n",
            "[[ 2 -1  0 15  5]\n",
            " [ 1  1  1  1  0]\n",
            " [10 20  5  1  3]\n",
            " [10  2 -1  4  5]]\n"
          ]
        }
      ]
    },
    {
      "cell_type": "markdown",
      "source": [
        "**Stacking arrays horizontally and vertically**"
      ],
      "metadata": {
        "id": "9-Ot3A5nq454"
      }
    },
    {
      "cell_type": "code",
      "source": [
        "import numpy as np\n",
        "a = np.array([1,2,3])\n",
        "b = np.array([5,6,7])\n",
        "e = np.stack((a,b),axis=1)\n",
        "print(e)\n",
        "print()\n",
        "c = np.hstack([a,b])\n",
        "d = np.vstack([a,b])\n",
        "print(c)\n",
        "print()\n",
        "print(d)\n"
      ],
      "metadata": {
        "colab": {
          "base_uri": "https://localhost:8080/"
        },
        "id": "lpLAbuiuq7oC",
        "outputId": "ec0615d0-3308-43d3-f8ae-207390fe8f6b"
      },
      "execution_count": null,
      "outputs": [
        {
          "output_type": "stream",
          "name": "stdout",
          "text": [
            "[[1 5]\n",
            " [2 6]\n",
            " [3 7]]\n",
            "\n",
            "[1 2 3 5 6 7]\n",
            "\n",
            "[[1 2 3]\n",
            " [5 6 7]]\n"
          ]
        }
      ]
    },
    {
      "cell_type": "markdown",
      "source": [
        "**Splitting arrays**"
      ],
      "metadata": {
        "id": "zIq6otJQq8sE"
      }
    },
    {
      "cell_type": "code",
      "source": [
        "import numpy as np\n",
        "a = np.array([1,2,3,4,5])\n",
        "result = np.array_split(a,3)\n",
        "print(result)\n",
        "b = np.split(a,1)\n",
        "print(b)\n"
      ],
      "metadata": {
        "colab": {
          "base_uri": "https://localhost:8080/"
        },
        "id": "NuexWxQ8rCgo",
        "outputId": "9c1f79a1-2f12-48b9-daaf-fb3d2e448a67"
      },
      "execution_count": null,
      "outputs": [
        {
          "output_type": "stream",
          "name": "stdout",
          "text": [
            "[array([1, 2]), array([3, 4]), array([5])]\n",
            "[array([1, 2, 3, 4, 5])]\n"
          ]
        }
      ]
    },
    {
      "cell_type": "markdown",
      "source": [
        "**Splitting 2D arrays horizontally and vertically**"
      ],
      "metadata": {
        "id": "HY9fE_3ArDxg"
      }
    },
    {
      "cell_type": "code",
      "source": [
        "import numpy as np\n",
        "a = np.array([[1,3,42,32,50,60],\n",
        "              [43,55,42,45,70,80]])\n",
        "result = np.hsplit(a,3)\n",
        "print(result)\n",
        "print()\n",
        "result = np.vsplit(a,1)\n",
        "print(result)\n"
      ],
      "metadata": {
        "colab": {
          "base_uri": "https://localhost:8080/"
        },
        "id": "NPtBZtPGrGiz",
        "outputId": "d5a1b3ed-a5f7-435f-d000-042a59bf45c4"
      },
      "execution_count": null,
      "outputs": [
        {
          "output_type": "stream",
          "name": "stdout",
          "text": [
            "[array([[ 1,  3],\n",
            "       [43, 55]]), array([[42, 32],\n",
            "       [42, 45]]), array([[50, 60],\n",
            "       [70, 80]])]\n",
            "\n",
            "[array([[ 1,  3, 42, 32, 50, 60],\n",
            "       [43, 55, 42, 45, 70, 80]])]\n"
          ]
        }
      ]
    },
    {
      "cell_type": "markdown",
      "source": [
        "**Finding indices using where**"
      ],
      "metadata": {
        "id": "6C6U20dOrIXV"
      }
    },
    {
      "cell_type": "code",
      "source": [
        "import numpy as np\n",
        "n = np.array([12,43,54,6,45,45])\n",
        "print(n)\n",
        "print()\n",
        "arr = np.where(n==45)\n",
        "print(arr)\n"
      ],
      "metadata": {
        "colab": {
          "base_uri": "https://localhost:8080/"
        },
        "id": "P6UNl-k9rKaC",
        "outputId": "3537cf21-0de5-4248-a3ad-b00e159ab106"
      },
      "execution_count": null,
      "outputs": [
        {
          "output_type": "stream",
          "name": "stdout",
          "text": [
            "[12 43 54  6 45 45]\n",
            "\n",
            "(array([4, 5]),)\n"
          ]
        }
      ]
    },
    {
      "cell_type": "markdown",
      "source": [
        "**Sorting 1D arrays**"
      ],
      "metadata": {
        "id": "zRm5QuXzrNyn"
      }
    },
    {
      "cell_type": "code",
      "source": [
        "import numpy as np\n",
        "arr = np.array([5,2,9,1,7])\n",
        "sorted_arr = np.sort(arr)\n",
        "print(\"Original:\")\n",
        "print(arr)\n",
        "print(\"Sorted:\")\n",
        "print(sorted_arr)\n"
      ],
      "metadata": {
        "colab": {
          "base_uri": "https://localhost:8080/"
        },
        "id": "KTY8e_gcrT7A",
        "outputId": "578cfe3a-9ef9-49f3-b601-043e77c0bfb3"
      },
      "execution_count": null,
      "outputs": [
        {
          "output_type": "stream",
          "name": "stdout",
          "text": [
            "Original:\n",
            "[5 2 9 1 7]\n",
            "Sorted:\n",
            "[1 2 5 7 9]\n"
          ]
        }
      ]
    },
    {
      "cell_type": "markdown",
      "source": [
        "**Sorting ascending and descending**"
      ],
      "metadata": {
        "id": "IJCuDdw3rVnx"
      }
    },
    {
      "cell_type": "code",
      "source": [
        "import numpy as np\n",
        "arr = np.array([5,2,9,1,7])\n",
        "sorted_arr = np.sort(arr)\n",
        "reversed_arr = sorted_arr[::-1]\n",
        "print(\"Original:\",arr)\n",
        "print(\"Sorted (ascending):\",sorted_arr)\n",
        "print(\"Sorted (descending):\",reversed_arr)\n"
      ],
      "metadata": {
        "colab": {
          "base_uri": "https://localhost:8080/"
        },
        "id": "J1i0RfjnrZtt",
        "outputId": "8b04e8be-7111-4007-e3b3-2ae11261723a"
      },
      "execution_count": null,
      "outputs": [
        {
          "output_type": "stream",
          "name": "stdout",
          "text": [
            "Original: [5 2 9 1 7]\n",
            "Sorted (ascending): [1 2 5 7 9]\n",
            "Sorted (descending): [9 7 5 2 1]\n"
          ]
        }
      ]
    },
    {
      "cell_type": "markdown",
      "source": [
        "**Intersection of arrays**"
      ],
      "metadata": {
        "id": "x72CSz4Iries"
      }
    },
    {
      "cell_type": "code",
      "source": [
        "import numpy as np\n",
        "n = np.array([1,73,54,6,95,45])\n",
        "print(n)\n",
        "print()\n",
        "b = np.array([1,73,754,86,95,845])\n",
        "print(b)\n",
        "print()\n",
        "result = np.intersect1d(n,b)\n",
        "print(result)\n"
      ],
      "metadata": {
        "colab": {
          "base_uri": "https://localhost:8080/"
        },
        "id": "DMJ3vil1rls3",
        "outputId": "bbc48f9b-7034-4602-8869-11bbd8eb0052"
      },
      "execution_count": null,
      "outputs": [
        {
          "output_type": "stream",
          "name": "stdout",
          "text": [
            "[ 1 73 54  6 95 45]\n",
            "\n",
            "[  1  73 754  86  95 845]\n",
            "\n",
            "[ 1 73 95]\n"
          ]
        }
      ]
    },
    {
      "cell_type": "markdown",
      "source": [
        "**Finding rank of matrix**"
      ],
      "metadata": {
        "id": "kosM7mK4rmw-"
      }
    },
    {
      "cell_type": "code",
      "source": [
        "import numpy as np\n",
        "A = np.array([[1,2,3],\n",
        "              [4,5,6],\n",
        "              [7,8,9]])\n",
        "rank = np.linalg.matrix_rank(A)\n",
        "print(A)\n",
        "print()\n",
        "print(rank)\n"
      ],
      "metadata": {
        "colab": {
          "base_uri": "https://localhost:8080/"
        },
        "id": "UzwmNkSQrpg7",
        "outputId": "a309f0a1-8c8a-41a4-b49b-6134be3a6ee2"
      },
      "execution_count": null,
      "outputs": [
        {
          "output_type": "stream",
          "name": "stdout",
          "text": [
            "[[1 2 3]\n",
            " [4 5 6]\n",
            " [7 8 9]]\n",
            "\n",
            "2\n"
          ]
        }
      ]
    },
    {
      "cell_type": "markdown",
      "source": [
        "**Trace of matrix**"
      ],
      "metadata": {
        "id": "TW4Y4AclrrOP"
      }
    },
    {
      "cell_type": "code",
      "source": [
        "import numpy as np\n",
        "A = np.array([[1,2,3],\n",
        "              [4,5,6],\n",
        "              [7,8,9]])\n",
        "trace = np.trace(A)\n",
        "print(trace)\n"
      ],
      "metadata": {
        "colab": {
          "base_uri": "https://localhost:8080/"
        },
        "id": "gzLf_VHWrtwE",
        "outputId": "4da55ae7-8285-45a5-9b1f-dbf73461be53"
      },
      "execution_count": null,
      "outputs": [
        {
          "output_type": "stream",
          "name": "stdout",
          "text": [
            "15\n"
          ]
        }
      ]
    },
    {
      "cell_type": "markdown",
      "source": [
        "**Determinant of matrix**"
      ],
      "metadata": {
        "id": "UKAo6iZRrvDB"
      }
    },
    {
      "cell_type": "code",
      "source": [
        "import numpy as np\n",
        "A = np.array([[1,2,3],\n",
        "              [4,5,6],\n",
        "              [7,8,9]])\n",
        "det = np.linalg.det(A)\n",
        "print(det)\n"
      ],
      "metadata": {
        "colab": {
          "base_uri": "https://localhost:8080/"
        },
        "id": "6HakUuUgrxy-",
        "outputId": "104a7c96-3df5-43c5-d72b-5b597cc50760"
      },
      "execution_count": null,
      "outputs": [
        {
          "output_type": "stream",
          "name": "stdout",
          "text": [
            "0.0\n"
          ]
        }
      ]
    },
    {
      "cell_type": "markdown",
      "source": [
        "**Inverse of matrix**"
      ],
      "metadata": {
        "id": "y_MV5buSrzLB"
      }
    },
    {
      "cell_type": "code",
      "source": [
        "import numpy as np\n",
        "A = np.array([[4,7],\n",
        "              [2,6]])\n",
        "inverse = np.linalg.inv(A)\n",
        "print(inverse)\n"
      ],
      "metadata": {
        "colab": {
          "base_uri": "https://localhost:8080/"
        },
        "id": "wUTte74Wr1sp",
        "outputId": "b6220316-622d-4309-a47e-e315d8a5f528"
      },
      "execution_count": null,
      "outputs": [
        {
          "output_type": "stream",
          "name": "stdout",
          "text": [
            "[[ 0.6 -0.7]\n",
            " [-0.2  0.4]]\n"
          ]
        }
      ]
    },
    {
      "cell_type": "markdown",
      "source": [
        "**Eigenvalues and eigenvectors**"
      ],
      "metadata": {
        "id": "XQd_XtT2r3Jb"
      }
    },
    {
      "cell_type": "code",
      "source": [
        "import numpy as np\n",
        "A = np.array([[4,-2],\n",
        "              [1,1]])\n",
        "eigenvalues, eigenvectors = np.linalg.eig(A)\n",
        "print(\"Eigenvalues:\",eigenvalues)\n",
        "print(\"Eigenvectors:\\n\",eigenvectors)\n"
      ],
      "metadata": {
        "colab": {
          "base_uri": "https://localhost:8080/"
        },
        "id": "o3ntVQfor58d",
        "outputId": "0693659e-4160-40e2-a819-a78b3f8d3582"
      },
      "execution_count": null,
      "outputs": [
        {
          "output_type": "stream",
          "name": "stdout",
          "text": [
            "Eigenvalues: [3. 2.]\n",
            "Eigenvectors:\n",
            " [[0.89442719 0.70710678]\n",
            " [0.4472136  0.70710678]]\n"
          ]
        }
      ]
    },
    {
      "cell_type": "markdown",
      "source": [
        "**Normal distribution random numbers**"
      ],
      "metadata": {
        "id": "uEv0dD7ur7Ta"
      }
    },
    {
      "cell_type": "code",
      "source": [
        "import numpy as np\n",
        "data = np.random.normal(0,1,10)\n",
        "print(data)\n"
      ],
      "metadata": {
        "colab": {
          "base_uri": "https://localhost:8080/"
        },
        "id": "Z9Kyen-ir9ai",
        "outputId": "c6866fa3-4f3d-4851-9dff-f809b7e26e3e"
      },
      "execution_count": null,
      "outputs": [
        {
          "output_type": "stream",
          "name": "stdout",
          "text": [
            "[ 0.14869985  1.03922637 -0.8409645  -1.20034812 -1.10556371 -0.37176455\n",
            " -0.55602263 -0.34745688 -0.5659265  -0.51025203]\n"
          ]
        }
      ]
    },
    {
      "cell_type": "markdown",
      "source": [
        "**Uniform distribution random numbers**"
      ],
      "metadata": {
        "id": "CmD_Czszr-yq"
      }
    },
    {
      "cell_type": "code",
      "source": [
        "import numpy as np\n",
        "data = np.random.uniform(0,1,10)\n",
        "print(data)\n"
      ],
      "metadata": {
        "colab": {
          "base_uri": "https://localhost:8080/"
        },
        "id": "L7SIA_T_sAuC",
        "outputId": "38cf5253-a138-4a4f-e04f-70e5dbee4ef0"
      },
      "execution_count": null,
      "outputs": [
        {
          "output_type": "stream",
          "name": "stdout",
          "text": [
            "[0.112218   0.56924113 0.85250005 0.8557451  0.11473403 0.35254904\n",
            " 0.00784392 0.06658794 0.99668846 0.44293584]\n"
          ]
        }
      ]
    },
    {
      "cell_type": "markdown",
      "source": [
        "**Poisson distribution random numbers**"
      ],
      "metadata": {
        "id": "nFwwL1OTsB6r"
      }
    },
    {
      "cell_type": "code",
      "source": [
        "import numpy as np\n",
        "data = np.random.poisson(3,10)\n",
        "print(data)\n"
      ],
      "metadata": {
        "colab": {
          "base_uri": "https://localhost:8080/"
        },
        "id": "6rsixqZAsFAC",
        "outputId": "b9d5cac6-da87-4e6d-d76a-9f1aed3fb2db"
      },
      "execution_count": null,
      "outputs": [
        {
          "output_type": "stream",
          "name": "stdout",
          "text": [
            "[2 3 1 2 4 4 8 3 6 3]\n"
          ]
        }
      ]
    }
  ]
}